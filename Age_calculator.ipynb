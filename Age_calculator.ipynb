{
  "nbformat": 4,
  "nbformat_minor": 0,
  "metadata": {
    "colab": {
      "name": "Age calculator.ipynb",
      "provenance": [],
      "authorship_tag": "ABX9TyND7CAmvrhbaOBhL0VQ1MUH",
      "include_colab_link": true
    },
    "kernelspec": {
      "name": "python3",
      "display_name": "Python 3"
    }
  },
  "cells": [
    {
      "cell_type": "markdown",
      "metadata": {
        "id": "view-in-github",
        "colab_type": "text"
      },
      "source": [
        "<a href=\"https://colab.research.google.com/github/mihany/age-calculator-python/blob/master/Age_calculator.ipynb\" target=\"_parent\"><img src=\"https://colab.research.google.com/assets/colab-badge.svg\" alt=\"Open In Colab\"/></a>"
      ]
    },
    {
      "cell_type": "code",
      "metadata": {
        "id": "cDw36J5g0sTR",
        "colab_type": "code",
        "colab": {
          "base_uri": "https://localhost:8080/",
          "height": 238
        },
        "outputId": "adeab8eb-d5e0-4773-b89f-a82575641d02"
      },
      "source": [
        "# Auther : Mohamed Ibrahim Hany\n",
        "\n",
        "import re\n",
        "from datetime import date \n",
        "  \n",
        "def calculateAge(birthDate): \n",
        "    today = date.today() \n",
        "    age = today.year - birthDate.year - ((today.month, today.day) < (birthDate.month, birthDate.day)) \n",
        "  \n",
        "    return age\n",
        "\n",
        "print(\"Age Calcualtor\")\n",
        "\n",
        "name = input(\"Enter your name: \")\n",
        "print(\"\\n\")\n",
        "\n",
        "while True:\n",
        "  age = input(\"Enter your birthdate as follows DD/MM/YYYY \\n\")\n",
        "\n",
        "  pattern = r\"\\d{1,2}\\/\\d{1,2}\\/\\d{1,4}\"\n",
        "\n",
        "  if re.match( pattern, age):\n",
        "    splitted_array = age.split('/')\n",
        "    if int(splitted_array[2]) in range(1900,date.today().year) and int(splitted_array[1]) in range(0,12) and int(splitted_array[0]) in range(0,31) :\n",
        "      print(\"Date matched!\")\n",
        "      print(\"\\n\")\n",
        "      break\n",
        "  else:\n",
        "    print(\"Wrong date format!\")\n",
        "\n",
        "splitted_array = age.split('/')\n",
        "\n",
        "print(splitted_array)\n",
        "\n",
        "print(calculateAge(date(int(splitted_array[2]), int(splitted_array[1]), int(splitted_array[0]))), \" years\") "
      ],
      "execution_count": 18,
      "outputs": [
        {
          "output_type": "stream",
          "text": [
            "Age Calcualtor\n",
            "Enter your name: Ahmed\n",
            "\n",
            "\n",
            "Enter your birthdate as follows DD/MM/YYYY \n",
            "11/1/2020\n",
            "Enter your birthdate as follows DD/MM/YYYY \n",
            "11/1/1995\n",
            "Date matched!\n",
            "\n",
            "\n",
            "['11', '1', '1995']\n",
            "25  years\n"
          ],
          "name": "stdout"
        }
      ]
    },
    {
      "cell_type": "code",
      "metadata": {
        "id": "4ODG-16L2xfx",
        "colab_type": "code",
        "colab": {}
      },
      "source": [
        ""
      ],
      "execution_count": null,
      "outputs": []
    }
  ]
}