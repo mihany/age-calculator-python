{
  "nbformat": 4,
  "nbformat_minor": 0,
  "metadata": {
    "colab": {
      "name": "First.ipynb",
      "provenance": [],
      "authorship_tag": "ABX9TyOT9Z8JBRRpVBSi1R7DBNro",
      "include_colab_link": true
    },
    "kernelspec": {
      "name": "python3",
      "display_name": "Python 3"
    }
  },
  "cells": [
    {
      "cell_type": "markdown",
      "metadata": {
        "id": "view-in-github",
        "colab_type": "text"
      },
      "source": [
        "<a href=\"https://colab.research.google.com/github/mihany/colab-python/blob/master/First.ipynb\" target=\"_parent\"><img src=\"https://colab.research.google.com/assets/colab-badge.svg\" alt=\"Open In Colab\"/></a>"
      ]
    },
    {
      "cell_type": "code",
      "metadata": {
        "id": "cDw36J5g0sTR",
        "colab_type": "code",
        "colab": {
          "base_uri": "https://localhost:8080/",
          "height": 170
        },
        "outputId": "fde22947-acd5-48e7-ab64-ef73363fa28b"
      },
      "source": [
        "import re\n",
        "\n",
        "from datetime import date \n",
        "  \n",
        "def calculateAge(birthDate): \n",
        "    today = date.today() \n",
        "    age = today.year - birthDate.year - ((today.month, today.day) < (birthDate.month, birthDate.day)) \n",
        "  \n",
        "    return age\n",
        "\n",
        "print(\"Hello to my first program on colab\")\n",
        "\n",
        "name = input(\"Enter your name: \")\n",
        "print(\"\\n\")\n",
        "\n",
        "while True:\n",
        "  age = input(\"Enter your birthdate as follows DD/MM/YYYY \\n\")\n",
        "\n",
        "  pattern = r\"\\d{1,2}\\/\\d{1,2}\\/\\d{1,4}\"\n",
        "\n",
        "  if re.match( pattern, age):\n",
        "    print(\"Date matched!\")\n",
        "    break\n",
        "  else:\n",
        "    print(\"Wrong date format!\")\n",
        "\n",
        "# if re.match( pattern, age):\n",
        "#     print(\"Date matched!\")\n",
        "# else: print(\"Wrong date format!\")\n",
        "\n",
        "splitted_array = age.split('/')\n",
        "\n",
        "print(splitted_array)\n",
        "\n",
        "print(calculateAge(date(int(splitted_array[2]), int(splitted_array[1]), int(splitted_array[0]))), \" years\") "
      ],
      "execution_count": 5,
      "outputs": [
        {
          "output_type": "stream",
          "text": [
            "Hello to my first program on colab\n",
            "Enter your name: Mohamed\n",
            "\n",
            "\n",
            "Enter your birthdate as follows DD/MM/YYYY \n",
            "17/2/1995\n",
            "Date matched!\n",
            "['17', '2', '1995']\n",
            "25  years\n"
          ],
          "name": "stdout"
        }
      ]
    },
    {
      "cell_type": "code",
      "metadata": {
        "id": "4ODG-16L2xfx",
        "colab_type": "code",
        "colab": {}
      },
      "source": [
        ""
      ],
      "execution_count": 15,
      "outputs": []
    }
  ]
}